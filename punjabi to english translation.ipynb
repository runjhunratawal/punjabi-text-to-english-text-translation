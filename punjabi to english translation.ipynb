{
 "cells": [
  {
   "cell_type": "code",
   "execution_count": null,
   "id": "db90dd51",
   "metadata": {},
   "outputs": [],
   "source": [
    "from translate import Translator\n",
    "from tkinter import *\n",
    "root=Tk()\n",
    "root.geometry(\"720x480\")\n",
    "root.configure(bg='light blue')\n",
    "l1=Label(text=\" Enter your text in punjabi here: \",font='Bold 16',padx=20,pady=20)\n",
    "l1.pack()\n",
    "def translate():\n",
    "    translator = Translator(from_lang = \"pa-IN\",to_lang=\"en\")\n",
    "    sentence =text.get(\"1.0\",'end-1c')\n",
    "    translation=translator.translate(sentence)\n",
    "    text1.insert(\"1.0\",translation)\n",
    "    \n",
    "\n",
    "text=Text(width=50,height=5,bg='white',font='Bold 12',padx=20,pady=20)\n",
    "text.pack()\n",
    "btn =Button(text='Translate',bg = 'light blue',font='Bold 14',command=translate)\n",
    "btn.pack()\n",
    "l2=Label(text=\" Translated text in English is : \",font='Bold 16',padx=20,pady=20)\n",
    "l2.pack()\n",
    "text1=Text(width=50,height=5,bg='white',font='Bold 12',padx=20,pady=20)\n",
    "text1.pack()\n",
    "\n",
    "root.mainloop()\n",
    "\n",
    "\n"
   ]
  },
  {
   "cell_type": "code",
   "execution_count": null,
   "id": "563c56ce",
   "metadata": {},
   "outputs": [],
   "source": []
  },
  {
   "cell_type": "code",
   "execution_count": null,
   "id": "e5d9171c",
   "metadata": {},
   "outputs": [],
   "source": []
  }
 ],
 "metadata": {
  "kernelspec": {
   "display_name": "Python 3",
   "language": "python",
   "name": "python3"
  },
  "language_info": {
   "codemirror_mode": {
    "name": "ipython",
    "version": 3
   },
   "file_extension": ".py",
   "mimetype": "text/x-python",
   "name": "python",
   "nbconvert_exporter": "python",
   "pygments_lexer": "ipython3",
   "version": "3.8.8"
  }
 },
 "nbformat": 4,
 "nbformat_minor": 5
}
